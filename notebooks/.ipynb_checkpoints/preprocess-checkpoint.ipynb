{
 "cells": [
  {
   "cell_type": "code",
   "execution_count": 1,
   "metadata": {
    "ExecuteTime": {
     "end_time": "2017-11-08T19:24:29.418780Z",
     "start_time": "2017-11-08T19:24:28.552216Z"
    },
    "collapsed": true
   },
   "outputs": [],
   "source": [
    "import re\n",
    "import pandas as pd\n",
    "import numpy as np\n",
    "from collections import Counter\n",
    "from textblob import TextBlob\n",
    "from nltk.tokenize import WhitespaceTokenizer\n",
    "from nltk.corpus import stopwords\n",
    "from nltk.stem.porter import PorterStemmer\n",
    "# globals\n",
    "stop = stopwords.words('english')"
   ]
  },
  {
   "cell_type": "markdown",
   "metadata": {},
   "source": [
    "## Load data and clean"
   ]
  },
  {
   "cell_type": "code",
   "execution_count": 18,
   "metadata": {
    "ExecuteTime": {
     "end_time": "2017-11-08T19:34:16.117643Z",
     "start_time": "2017-11-08T19:34:15.529232Z"
    }
   },
   "outputs": [
    {
     "data": {
      "text/plain": [
       "(24998, 9)"
      ]
     },
     "execution_count": 18,
     "metadata": {},
     "output_type": "execute_result"
    }
   ],
   "source": [
    "df = pd.read_json('../data/craigslist_music_scraped.json')\n",
    "df.shape"
   ]
  },
  {
   "cell_type": "code",
   "execution_count": 19,
   "metadata": {
    "ExecuteTime": {
     "end_time": "2017-11-08T19:34:16.186106Z",
     "start_time": "2017-11-08T19:34:16.119662Z"
    }
   },
   "outputs": [
    {
     "data": {
      "text/plain": [
       "(19920, 9)"
      ]
     },
     "execution_count": 19,
     "metadata": {},
     "output_type": "execute_result"
    }
   ],
   "source": [
    "# de-duplicate exact raw posts\n",
    "df = df.loc[~df.duplicated(subset=['body'], keep='first')]\n",
    "df.shape"
   ]
  },
  {
   "cell_type": "code",
   "execution_count": 20,
   "metadata": {
    "ExecuteTime": {
     "end_time": "2017-11-08T19:34:16.195438Z",
     "start_time": "2017-11-08T19:34:16.187681Z"
    },
    "collapsed": true
   },
   "outputs": [],
   "source": [
    "def dup_clean(s):\n",
    "    if type(s) != str:\n",
    "        return \"\"\n",
    "    no_qr = re.sub(\"QR Code Link to This Post\", '', s).lower().strip()\n",
    "    return no_qr"
   ]
  },
  {
   "cell_type": "code",
   "execution_count": 21,
   "metadata": {
    "ExecuteTime": {
     "end_time": "2017-11-08T19:34:16.549341Z",
     "start_time": "2017-11-08T19:34:16.201100Z"
    }
   },
   "outputs": [
    {
     "data": {
      "text/plain": [
       "(19506, 9)"
      ]
     },
     "execution_count": 21,
     "metadata": {},
     "output_type": "execute_result"
    }
   ],
   "source": [
    "# modify text body to lowercase, remove QR tag and strip\n",
    "df.body = df.body.apply(dup_clean)\n",
    "# de-duplicate exact processed posts\n",
    "df = df.loc[~df.duplicated(subset=['body'], keep='first')]\n",
    "# combine title and body\n",
    "df['body'] = df.title + ' \\n' + df.body\n",
    "df.shape"
   ]
  },
  {
   "cell_type": "markdown",
   "metadata": {
    "collapsed": true
   },
   "source": [
    "## Preprocessing"
   ]
  },
  {
   "cell_type": "code",
   "execution_count": 6,
   "metadata": {
    "ExecuteTime": {
     "end_time": "2017-11-06T22:40:01.517909Z",
     "start_time": "2017-11-06T22:40:01.370833Z"
    },
    "collapsed": true
   },
   "outputs": [],
   "source": [
    "def prep_body_keepnum(s):\n",
    "    if type(s) != str:\n",
    "        return \"\"\n",
    "    no_https = re.sub(\"https?://[^\\s]+\", '', s)\n",
    "    no_http = re.sub(\"http?://[^\\s]+\", '', no_https)\n",
    "    no_www = re.sub(\"www?[^\\s]+\", '', no_http)\n",
    "    words = TextBlob(no_www).words\n",
    "    words = [w for w in words if w not in stop]\n",
    "    prep_body = ' '.join(words)\n",
    "    return prep_body\n",
    "\n",
    "def prep_body(s):\n",
    "    if type(s) != str:\n",
    "        return \"\"\n",
    "    no_https = re.sub(\"https?://[^\\s]+\", '', s)\n",
    "    no_http = re.sub(\"http?://[^\\s]+\", '', no_https)\n",
    "    no_www = re.sub(\"www?[^\\s]+\", '', no_http)\n",
    "    body = re.sub(\"[0-9]\",'',no_www).strip()\n",
    "    words = TextBlob(body).words\n",
    "    words = [w for w in words if w not in stop]\n",
    "    prep_body = ' '.join(words)\n",
    "    return prep_body\n",
    "\n",
    "def compress(iterables):\n",
    "    outer = []\n",
    "    for it in iterables:\n",
    "        if type(it) != list:\n",
    "            outer.append(it)\n",
    "        else:\n",
    "            outer += it\n",
    "    return Counter(outer)\n",
    "\n",
    "def extract_genres(s):\n",
    "    genre_r = []\n",
    "    for genre in genres:\n",
    "        if genre in s:\n",
    "            genre_r.append(genre_map[genre])\n",
    "    return compress(genre_r)\n",
    "\n",
    "def extract_instruments(s):\n",
    "    instr_r = []\n",
    "    for instrument in instrument_types:\n",
    "        if instrument in s:\n",
    "            instr_r.append(instruments[instrument])\n",
    "    return compress(instr_r)"
   ]
  },
  {
   "cell_type": "code",
   "execution_count": 7,
   "metadata": {
    "ExecuteTime": {
     "end_time": "2017-11-06T22:42:08.457974Z",
     "start_time": "2017-11-06T22:40:02.534592Z"
    },
    "collapsed": true
   },
   "outputs": [],
   "source": [
    "df[\"prep_body_keepnum\"] = df[\"body\"].apply(prep_body_keepnum)\n",
    "df[\"prep_body\"] = df[\"body\"].apply(prep_body)\n",
    "df[\"body_len\"] = df[\"prep_body\"].apply(lambda x: len(x))"
   ]
  },
  {
   "cell_type": "markdown",
   "metadata": {},
   "source": [
    "## Stemming"
   ]
  },
  {
   "cell_type": "code",
   "execution_count": 8,
   "metadata": {
    "ExecuteTime": {
     "end_time": "2017-11-06T22:42:08.469943Z",
     "start_time": "2017-11-06T22:42:08.461003Z"
    },
    "collapsed": true
   },
   "outputs": [],
   "source": [
    "def stem_text(body):\n",
    "    words = TextBlob(body).words\n",
    "    stemmer = PorterStemmer()\n",
    "    stems = [stemmer.stem(word) for word in words]\n",
    "    stemmed = ' '.join(stems)\n",
    "    return stemmed"
   ]
  },
  {
   "cell_type": "code",
   "execution_count": 9,
   "metadata": {
    "ExecuteTime": {
     "end_time": "2017-11-06T22:44:33.655183Z",
     "start_time": "2017-11-06T22:42:08.477838Z"
    },
    "collapsed": true
   },
   "outputs": [],
   "source": [
    "df[\"prep_body\"] = df[\"prep_body\"].apply(str)\n",
    "df[\"prep_body_keepnum\"] = df[\"prep_body_keepnum\"].apply(str)\n",
    "df[\"prep_body\"] = df[\"prep_body\"].apply(stem_text)\n",
    "df[\"prep_body_keepnum\"] = df[\"prep_body_keepnum\"].apply(stem_text)"
   ]
  },
  {
   "cell_type": "markdown",
   "metadata": {},
   "source": [
    "## De-duplicate based on cosine similarity"
   ]
  },
  {
   "cell_type": "code",
   "execution_count": 10,
   "metadata": {
    "ExecuteTime": {
     "end_time": "2017-11-06T22:44:33.675322Z",
     "start_time": "2017-11-06T22:44:33.662307Z"
    },
    "collapsed": true
   },
   "outputs": [],
   "source": [
    "from sklearn.feature_extraction.text import CountVectorizer\n",
    "from sklearn.metrics.pairwise import linear_kernel, cosine_similarity"
   ]
  },
  {
   "cell_type": "code",
   "execution_count": 11,
   "metadata": {
    "ExecuteTime": {
     "end_time": "2017-11-06T22:44:55.107713Z",
     "start_time": "2017-11-06T22:44:53.341798Z"
    },
    "collapsed": true
   },
   "outputs": [],
   "source": [
    "posts = df.prep_body.values.tolist()\n",
    "vectorizer = CountVectorizer()\n",
    "count_vec = vectorizer.fit_transform(posts)"
   ]
  },
  {
   "cell_type": "code",
   "execution_count": 12,
   "metadata": {
    "ExecuteTime": {
     "end_time": "2017-11-06T22:44:57.385592Z",
     "start_time": "2017-11-06T22:44:57.381996Z"
    }
   },
   "outputs": [
    {
     "data": {
      "text/plain": [
       "(19506, 33181)"
      ]
     },
     "execution_count": 12,
     "metadata": {},
     "output_type": "execute_result"
    }
   ],
   "source": [
    "count_vec.shape"
   ]
  },
  {
   "cell_type": "code",
   "execution_count": 19,
   "metadata": {
    "ExecuteTime": {
     "end_time": "2017-11-06T23:02:51.709812Z",
     "start_time": "2017-11-06T22:53:05.303143Z"
    },
    "collapsed": true
   },
   "outputs": [],
   "source": [
    "threshold = 0.98\n",
    "kill = set()\n",
    "for i in range(count_vec.shape[0]):\n",
    "    cosine_similarities = cosine_similarity(count_vec[i:i+1], count_vec).flatten()\n",
    "    indices = np.where(cosine_similarities > threshold)[0]\n",
    "    indices = indices[np.where(indices > i)]\n",
    "    for kill_index in indices:\n",
    "        kill.add(kill_index)"
   ]
  },
  {
   "cell_type": "code",
   "execution_count": 21,
   "metadata": {
    "ExecuteTime": {
     "end_time": "2017-11-06T23:10:21.149141Z",
     "start_time": "2017-11-06T23:10:21.145016Z"
    }
   },
   "outputs": [
    {
     "data": {
      "text/plain": [
       "1140"
      ]
     },
     "execution_count": 21,
     "metadata": {},
     "output_type": "execute_result"
    }
   ],
   "source": [
    "len(kill)"
   ]
  },
  {
   "cell_type": "code",
   "execution_count": 26,
   "metadata": {
    "ExecuteTime": {
     "end_time": "2017-11-06T23:12:23.976596Z",
     "start_time": "2017-11-06T23:12:23.973261Z"
    }
   },
   "outputs": [
    {
     "data": {
      "text/plain": [
       "(19506, 12)"
      ]
     },
     "execution_count": 26,
     "metadata": {},
     "output_type": "execute_result"
    }
   ],
   "source": [
    "df.shape"
   ]
  },
  {
   "cell_type": "code",
   "execution_count": 56,
   "metadata": {
    "ExecuteTime": {
     "end_time": "2017-11-06T23:31:17.087159Z",
     "start_time": "2017-11-06T23:31:17.079706Z"
    },
    "collapsed": true
   },
   "outputs": [],
   "source": [
    "df_dedup = df.drop(df.index[kill])"
   ]
  },
  {
   "cell_type": "code",
   "execution_count": 57,
   "metadata": {
    "ExecuteTime": {
     "end_time": "2017-11-06T23:31:23.149098Z",
     "start_time": "2017-11-06T23:31:23.139688Z"
    }
   },
   "outputs": [
    {
     "data": {
      "text/plain": [
       "(18366, 12)"
      ]
     },
     "execution_count": 57,
     "metadata": {},
     "output_type": "execute_result"
    }
   ],
   "source": [
    "df_dedup.shape"
   ]
  },
  {
   "cell_type": "markdown",
   "metadata": {},
   "source": [
    "## Export data for modelling"
   ]
  },
  {
   "cell_type": "code",
   "execution_count": 59,
   "metadata": {
    "ExecuteTime": {
     "end_time": "2017-11-06T23:31:43.725824Z",
     "start_time": "2017-11-06T23:31:43.524510Z"
    },
    "collapsed": true
   },
   "outputs": [],
   "source": [
    "df_dedup.to_json('../data/posts_preprocessed.json')"
   ]
  },
  {
   "cell_type": "code",
   "execution_count": null,
   "metadata": {
    "collapsed": true
   },
   "outputs": [],
   "source": [
    "df_viz = df_viz.dropna()\n",
    "\n",
    "df_viz['topic'] = pd.Series(np.random.choice(5, len(df_viz))).values\n",
    "df_viz = df_viz[[\"gmap_lon\", \"gmap_lat\", \"city\", \"topic\"]]\n",
    "df_viz.to_json('../data/map_data.json')"
   ]
  },
  {
   "cell_type": "markdown",
   "metadata": {},
   "source": [
    "## Get genre / instrument categories"
   ]
  },
  {
   "cell_type": "code",
   "execution_count": null,
   "metadata": {
    "ExecuteTime": {
     "end_time": "2017-11-06T22:08:05.546403Z",
     "start_time": "2017-11-06T22:08:05.514402Z"
    },
    "collapsed": true
   },
   "outputs": [],
   "source": [
    "from mappings.genre_map import genre_map\n",
    "from mappings.instruments import instruments\n",
    "# globals\n",
    "genres = genre_map.keys()\n",
    "instrument_types = instruments.keys()"
   ]
  },
  {
   "cell_type": "code",
   "execution_count": null,
   "metadata": {
    "ExecuteTime": {
     "end_time": "2017-11-06T22:08:09.183995Z",
     "start_time": "2017-11-06T22:08:06.564366Z"
    },
    "collapsed": true,
    "scrolled": true
   },
   "outputs": [],
   "source": [
    "df[\"genre_counts\"] = df[\"prep_body\"].apply(extract_genres)\n",
    "df[\"instrument_counts\"] = df[\"prep_body\"].apply(extract_instruments)"
   ]
  },
  {
   "cell_type": "code",
   "execution_count": null,
   "metadata": {
    "ExecuteTime": {
     "end_time": "2017-11-06T22:16:19.975177Z",
     "start_time": "2017-11-06T22:16:19.953979Z"
    },
    "collapsed": true
   },
   "outputs": [],
   "source": [
    "df.instrument_counts"
   ]
  },
  {
   "cell_type": "code",
   "execution_count": null,
   "metadata": {
    "ExecuteTime": {
     "end_time": "2017-11-06T22:08:09.367245Z",
     "start_time": "2017-11-06T22:08:09.187116Z"
    },
    "collapsed": true
   },
   "outputs": [],
   "source": [
    "genre_counts = pd.DataFrame(df[\"genre_counts\"].tolist()).fillna(0)\n",
    "instr_counts = pd.DataFrame(df[\"instrument_counts\"].tolist()).fillna(0)\n",
    "df = pd.concat([df, genre_counts, instr_counts], axis=1)"
   ]
  },
  {
   "cell_type": "code",
   "execution_count": null,
   "metadata": {
    "ExecuteTime": {
     "end_time": "2017-11-06T22:09:24.768387Z",
     "start_time": "2017-11-06T22:09:24.729515Z"
    },
    "collapsed": true
   },
   "outputs": [],
   "source": [
    "df.head()"
   ]
  },
  {
   "cell_type": "code",
   "execution_count": null,
   "metadata": {
    "ExecuteTime": {
     "end_time": "2017-11-06T22:08:09.475784Z",
     "start_time": "2017-11-06T22:08:09.368825Z"
    },
    "collapsed": true
   },
   "outputs": [],
   "source": [
    "df[genre_counts.columns].describe()"
   ]
  },
  {
   "cell_type": "code",
   "execution_count": null,
   "metadata": {
    "ExecuteTime": {
     "end_time": "2017-11-06T22:08:11.472040Z",
     "start_time": "2017-11-06T22:08:11.406864Z"
    },
    "collapsed": true
   },
   "outputs": [],
   "source": [
    "df[instr_counts.columns].describe()"
   ]
  },
  {
   "cell_type": "code",
   "execution_count": null,
   "metadata": {
    "collapsed": true
   },
   "outputs": [],
   "source": []
  }
 ],
 "metadata": {
  "kernelspec": {
   "display_name": "Python [conda env:metis]",
   "language": "python",
   "name": "conda-env-metis-py"
  },
  "language_info": {
   "codemirror_mode": {
    "name": "ipython",
    "version": 3
   },
   "file_extension": ".py",
   "mimetype": "text/x-python",
   "name": "python",
   "nbconvert_exporter": "python",
   "pygments_lexer": "ipython3",
   "version": "3.5.4"
  }
 },
 "nbformat": 4,
 "nbformat_minor": 2
}
