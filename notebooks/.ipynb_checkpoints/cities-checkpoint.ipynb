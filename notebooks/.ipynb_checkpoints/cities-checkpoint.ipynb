{
 "cells": [
  {
   "cell_type": "code",
   "execution_count": 2,
   "metadata": {
    "ExecuteTime": {
     "end_time": "2017-11-05T06:00:17.007189Z",
     "start_time": "2017-11-05T06:00:16.624540Z"
    },
    "collapsed": true
   },
   "outputs": [],
   "source": [
    "import pandas as pd"
   ]
  },
  {
   "cell_type": "code",
   "execution_count": 5,
   "metadata": {
    "ExecuteTime": {
     "end_time": "2017-11-05T06:00:32.866105Z",
     "start_time": "2017-11-05T06:00:32.858794Z"
    }
   },
   "outputs": [],
   "source": [
    "df = pd.read_csv(\"../data/cities.csv\")"
   ]
  },
  {
   "cell_type": "code",
   "execution_count": 6,
   "metadata": {
    "ExecuteTime": {
     "end_time": "2017-11-05T06:00:33.961554Z",
     "start_time": "2017-11-05T06:00:33.946667Z"
    }
   },
   "outputs": [
    {
     "data": {
      "text/plain": [
       "(417, 2)"
      ]
     },
     "execution_count": 6,
     "metadata": {},
     "output_type": "execute_result"
    }
   ],
   "source": [
    "df.shape"
   ]
  },
  {
   "cell_type": "code",
   "execution_count": 7,
   "metadata": {
    "ExecuteTime": {
     "end_time": "2017-11-05T06:00:34.536699Z",
     "start_time": "2017-11-05T06:00:34.528153Z"
    },
    "collapsed": true
   },
   "outputs": [],
   "source": [
    "df_sorted = df.sort_values('active_posts',ascending=False)"
   ]
  },
  {
   "cell_type": "code",
   "execution_count": 28,
   "metadata": {
    "ExecuteTime": {
     "end_time": "2017-11-05T06:12:10.843577Z",
     "start_time": "2017-11-05T06:12:10.838892Z"
    }
   },
   "outputs": [],
   "source": [
    "df = df_sorted[df_sorted.active_posts>300]"
   ]
  },
  {
   "cell_type": "code",
   "execution_count": 29,
   "metadata": {
    "ExecuteTime": {
     "end_time": "2017-11-05T06:12:14.315400Z",
     "start_time": "2017-11-05T06:12:14.312287Z"
    }
   },
   "outputs": [
    {
     "data": {
      "text/plain": [
       "(45, 3)"
      ]
     },
     "execution_count": 29,
     "metadata": {},
     "output_type": "execute_result"
    }
   ],
   "source": [
    "df.shape"
   ]
  },
  {
   "cell_type": "code",
   "execution_count": 9,
   "metadata": {
    "ExecuteTime": {
     "end_time": "2017-11-05T06:00:35.685091Z",
     "start_time": "2017-11-05T06:00:35.677458Z"
    },
    "collapsed": true
   },
   "outputs": [],
   "source": [
    "import re\n",
    "def getroot(url):\n",
    "    m = re.search(\".*craigslist.org\",url)\n",
    "    root_url = m.group(0)\n",
    "    return root_url"
   ]
  },
  {
   "cell_type": "code",
   "execution_count": 10,
   "metadata": {
    "ExecuteTime": {
     "end_time": "2017-11-05T06:00:36.129374Z",
     "start_time": "2017-11-05T06:00:36.103083Z"
    },
    "collapsed": true
   },
   "outputs": [],
   "source": [
    "urls_to_scrape = df_sorted[df_sorted.active_posts>300].url.tolist()\n",
    "\n",
    "start_urls = [\"https://newyork.craigslist.org/search/muc\",\n",
    "              \"https://boston.craigslist.org/search/muc\",\n",
    "              \"https://seattle.craigslist.org/search/muc\",\n",
    "              \"https://losangeles.craigslist.org/search/muc\",\n",
    "              \"https://nashville.craigslist.org/search/muc\",\n",
    "              \"https://portland.craigslist.org/search/muc\",\n",
    "              \"https://denver.craigslist.org/search/muc\",\n",
    "              \"https://detroit.craigslist.org/search/muc\",\n",
    "              \"https://sfbay.craigslist.org/search/muc\",\n",
    "              \"https://atlanta.craigslist.org/search/muc\",\n",
    "              \"https://miami.craigslist.org/search/muc\",\n",
    "              \"https://washingtondc.craigslist.org/search/muc\",\n",
    "              \"https://philadelphia.craigslist.org/search/muc\",\n",
    "              \"https://chicago.craigslist.org/search/muc\",\n",
    "              \"https://dallas.craigslist.org/search/muc\"]"
   ]
  },
  {
   "cell_type": "code",
   "execution_count": 11,
   "metadata": {
    "ExecuteTime": {
     "end_time": "2017-11-05T06:00:36.654246Z",
     "start_time": "2017-11-05T06:00:36.648720Z"
    },
    "collapsed": true
   },
   "outputs": [],
   "source": [
    "urls_to_scrape = [getroot(url) for url in urls_to_scrape]\n",
    "start_urls = [getroot(url) for url in start_urls]\n",
    "new_urls_scrape = list(set(urls_to_scrape) ^ set(start_urls))\n",
    "new_urls_scrape = [url+\"/search/muc\" for url in new_urls_scrape]"
   ]
  },
  {
   "cell_type": "code",
   "execution_count": 12,
   "metadata": {
    "ExecuteTime": {
     "end_time": "2017-11-05T06:00:37.150522Z",
     "start_time": "2017-11-05T06:00:37.137703Z"
    }
   },
   "outputs": [
    {
     "data": {
      "text/plain": [
       "['https://raleigh.craigslist.org/search/muc',\n",
       " 'https://hudsonvalley.craigslist.org/search/muc',\n",
       " 'https://orangecounty.craigslist.org/search/muc',\n",
       " 'https://cleveland.craigslist.org/search/muc',\n",
       " 'https://austin.craigslist.org/search/muc',\n",
       " 'https://phoenix.craigslist.org/search/muc',\n",
       " 'https://columbus.craigslist.org/search/muc',\n",
       " 'https://houston.craigslist.org/search/muc',\n",
       " 'https://neworleans.craigslist.org/search/muc',\n",
       " 'https://tampa.craigslist.org/search/muc',\n",
       " 'https://inlandempire.craigslist.org/search/muc',\n",
       " 'https://baltimore.craigslist.org/search/muc',\n",
       " 'https://sandiego.craigslist.org/search/muc',\n",
       " 'https://nh.craigslist.org/search/muc',\n",
       " 'https://honolulu.craigslist.org/search/muc',\n",
       " 'https://sanantonio.craigslist.org/search/muc',\n",
       " 'https://longisland.craigslist.org/search/muc',\n",
       " 'https://cnj.craigslist.org/search/muc',\n",
       " 'https://providence.craigslist.org/search/muc',\n",
       " 'https://pittsburgh.craigslist.org/search/muc',\n",
       " 'https://kansascity.craigslist.org/search/muc',\n",
       " 'https://charlotte.craigslist.org/search/muc',\n",
       " 'https://newjersey.craigslist.org/search/muc',\n",
       " 'https://stlouis.craigslist.org/search/muc',\n",
       " 'https://orlando.craigslist.org/search/muc',\n",
       " 'https://southjersey.craigslist.org/search/muc',\n",
       " 'https://cincinnati.craigslist.org/search/muc',\n",
       " 'https://lasvegas.craigslist.org/search/muc',\n",
       " 'https://minneapolis.craigslist.org/search/muc']"
      ]
     },
     "execution_count": 12,
     "metadata": {},
     "output_type": "execute_result"
    }
   ],
   "source": [
    "new_urls_scrape"
   ]
  },
  {
   "cell_type": "code",
   "execution_count": 13,
   "metadata": {
    "ExecuteTime": {
     "end_time": "2017-11-05T06:00:37.705526Z",
     "start_time": "2017-11-05T06:00:37.698127Z"
    }
   },
   "outputs": [
    {
     "data": {
      "text/plain": [
       "['https://newyork.craigslist.org',\n",
       " 'https://losangeles.craigslist.org',\n",
       " 'https://atlanta.craigslist.org',\n",
       " 'https://sfbay.craigslist.org',\n",
       " 'https://miami.craigslist.org',\n",
       " 'https://miami.craigslist.org',\n",
       " 'https://orangecounty.craigslist.org',\n",
       " 'https://dallas.craigslist.org',\n",
       " 'https://philadelphia.craigslist.org',\n",
       " 'https://nashville.craigslist.org',\n",
       " 'https://denver.craigslist.org',\n",
       " 'https://austin.craigslist.org',\n",
       " 'https://phoenix.craigslist.org',\n",
       " 'https://houston.craigslist.org',\n",
       " 'https://chicago.craigslist.org',\n",
       " 'https://newjersey.craigslist.org',\n",
       " 'https://minneapolis.craigslist.org',\n",
       " 'https://lasvegas.craigslist.org',\n",
       " 'https://tampa.craigslist.org',\n",
       " 'https://inlandempire.craigslist.org',\n",
       " 'https://longisland.craigslist.org',\n",
       " 'https://sandiego.craigslist.org',\n",
       " 'https://raleigh.craigslist.org',\n",
       " 'https://orlando.craigslist.org',\n",
       " 'https://detroit.craigslist.org',\n",
       " 'https://seattle.craigslist.org',\n",
       " 'https://baltimore.craigslist.org',\n",
       " 'https://washingtondc.craigslist.org',\n",
       " 'https://boston.craigslist.org',\n",
       " 'https://pittsburgh.craigslist.org',\n",
       " 'https://portland.craigslist.org',\n",
       " 'https://cleveland.craigslist.org',\n",
       " 'https://stlouis.craigslist.org',\n",
       " 'https://cnj.craigslist.org',\n",
       " 'https://neworleans.craigslist.org',\n",
       " 'https://sanantonio.craigslist.org',\n",
       " 'https://charlotte.craigslist.org',\n",
       " 'https://southjersey.craigslist.org',\n",
       " 'https://cincinnati.craigslist.org',\n",
       " 'https://nh.craigslist.org',\n",
       " 'https://providence.craigslist.org',\n",
       " 'https://kansascity.craigslist.org',\n",
       " 'https://columbus.craigslist.org',\n",
       " 'https://honolulu.craigslist.org',\n",
       " 'https://hudsonvalley.craigslist.org']"
      ]
     },
     "execution_count": 13,
     "metadata": {},
     "output_type": "execute_result"
    }
   ],
   "source": [
    "urls_to_scrape"
   ]
  },
  {
   "cell_type": "code",
   "execution_count": 25,
   "metadata": {
    "ExecuteTime": {
     "end_time": "2017-11-05T06:08:27.766976Z",
     "start_time": "2017-11-05T06:08:27.751468Z"
    }
   },
   "outputs": [],
   "source": [
    "df_sorted['city name'] = df_sorted.url.apply(lambda x: re.sub('.craigslist.org','',getroot(x)[8:]))"
   ]
  },
  {
   "cell_type": "code",
   "execution_count": 31,
   "metadata": {
    "ExecuteTime": {
     "end_time": "2017-11-05T06:14:52.826043Z",
     "start_time": "2017-11-05T06:14:52.427616Z"
    }
   },
   "outputs": [],
   "source": [
    "import matplotlib.pyplot as plt\n",
    "%matplotlib inline\n",
    "import seaborn as sns"
   ]
  },
  {
   "cell_type": "code",
   "execution_count": 66,
   "metadata": {
    "ExecuteTime": {
     "end_time": "2017-11-05T06:33:24.519108Z",
     "start_time": "2017-11-05T06:33:23.687801Z"
    },
    "scrolled": false
   },
   "outputs": [
    {
     "data": {
      "text/plain": [
       "<matplotlib.text.Text at 0xa6055fec>"
      ]
     },
     "execution_count": 66,
     "metadata": {},
     "output_type": "execute_result"
    },
    {
     "data": {
      "image/png": "[encoded data removed]",
      "text/plain": [
       "<matplotlib.figure.Figure at 0xa609666c>"
      ]
     },
     "metadata": {},
     "output_type": "display_data"
    }
   ],
   "source": [
    "fig, ax = plt.subplots(figsize=(18,14))\n",
    "sns.barplot(y='city name', x='active_posts', data=df, orient='h')\n",
    "ax.set_xlabel(\"Total Posts\", fontsize=14)\n",
    "ax.set_ylabel(\"Metropolitan Area\", fontsize=14)\n",
    "ax.set_yticklabels(df['city name'].values, fontsize=12)\n",
    "ax.set_xticklabels([0,500,1000,1500,2000,2500], fontsize=12)\n",
    "ax.set_title('Total Posts in Craigslist Musician Communities by Metropolitan Area', fontsize=14, fontweight='bold')"
   ]
  },
  {
   "cell_type": "code",
   "execution_count": null,
   "metadata": {
    "collapsed": true
   },
   "outputs": [],
   "source": []
  }
 ],
 "metadata": {
  "kernelspec": {
   "display_name": "Python [conda env:metis]",
   "language": "python",
   "name": "conda-env-metis-py"
  },
  "language_info": {
   "codemirror_mode": {
    "name": "ipython",
    "version": 3
   },
   "file_extension": ".py",
   "mimetype": "text/x-python",
   "name": "python",
   "nbconvert_exporter": "python",
   "pygments_lexer": "ipython3",
   "version": "3.5.4"
  }
 },
 "nbformat": 4,
 "nbformat_minor": 2
}
