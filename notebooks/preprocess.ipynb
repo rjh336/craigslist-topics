{
 "cells": [
  {
   "cell_type": "code",
   "execution_count": 1,
   "metadata": {
    "ExecuteTime": {
     "end_time": "2017-11-10T03:13:48.702704Z",
     "start_time": "2017-11-10T03:13:47.614073Z"
    },
    "collapsed": true
   },
   "outputs": [],
   "source": [
    "import re\n",
    "import pandas as pd\n",
    "import numpy as np\n",
    "from collections import Counter\n",
    "from textblob import TextBlob\n",
    "from nltk.tokenize import WhitespaceTokenizer\n",
    "from nltk.corpus import stopwords\n",
    "from nltk.stem.porter import PorterStemmer\n",
    "# globals\n",
    "stop = stopwords.words('english')"
   ]
  },
  {
   "cell_type": "markdown",
   "metadata": {},
   "source": [
    "## Load data and clean"
   ]
  },
  {
   "cell_type": "code",
   "execution_count": 2,
   "metadata": {
    "ExecuteTime": {
     "end_time": "2017-11-10T03:13:49.303908Z",
     "start_time": "2017-11-10T03:13:48.704204Z"
    }
   },
   "outputs": [
    {
     "data": {
      "text/plain": [
       "(24998, 9)"
      ]
     },
     "execution_count": 2,
     "metadata": {},
     "output_type": "execute_result"
    }
   ],
   "source": [
    "df = pd.read_json('../data/craigslist_music_scraped.json')\n",
    "df.shape"
   ]
  },
  {
   "cell_type": "code",
   "execution_count": 3,
   "metadata": {
    "ExecuteTime": {
     "end_time": "2017-11-10T03:13:50.607828Z",
     "start_time": "2017-11-10T03:13:50.536809Z"
    }
   },
   "outputs": [
    {
     "data": {
      "text/plain": [
       "(19920, 9)"
      ]
     },
     "execution_count": 3,
     "metadata": {},
     "output_type": "execute_result"
    }
   ],
   "source": [
    "# de-duplicate exact raw posts\n",
    "df = df.loc[~df.duplicated(subset=['body'], keep='first')]\n",
    "df.shape"
   ]
  },
  {
   "cell_type": "code",
   "execution_count": 4,
   "metadata": {
    "ExecuteTime": {
     "end_time": "2017-11-10T03:13:51.058939Z",
     "start_time": "2017-11-10T03:13:51.048789Z"
    },
    "collapsed": true
   },
   "outputs": [],
   "source": [
    "def dup_clean(s):\n",
    "    if type(s) != str:\n",
    "        return \"\"\n",
    "    no_qr = re.sub(\"QR Code Link to This Post\", '', s).lower().strip()\n",
    "    return no_qr"
   ]
  },
  {
   "cell_type": "code",
   "execution_count": 5,
   "metadata": {
    "ExecuteTime": {
     "end_time": "2017-11-10T03:13:51.689303Z",
     "start_time": "2017-11-10T03:13:51.365768Z"
    }
   },
   "outputs": [
    {
     "data": {
      "text/plain": [
       "(19506, 9)"
      ]
     },
     "execution_count": 5,
     "metadata": {},
     "output_type": "execute_result"
    }
   ],
   "source": [
    "# modify text body to lowercase, remove QR tag and strip\n",
    "df.body = df.body.apply(dup_clean)\n",
    "# de-duplicate exact processed posts\n",
    "df = df.loc[~df.duplicated(subset=['body'], keep='first')]\n",
    "# combine title and body\n",
    "df['body'] = df.title + ' \\n' + df.body\n",
    "df.shape"
   ]
  },
  {
   "cell_type": "code",
   "execution_count": 6,
   "metadata": {
    "ExecuteTime": {
     "end_time": "2017-11-10T03:13:54.578147Z",
     "start_time": "2017-11-10T03:13:54.461637Z"
    },
    "collapsed": true
   },
   "outputs": [],
   "source": [
    "def prep_body_keepnum(s):\n",
    "    if type(s) != str:\n",
    "        return \"\"\n",
    "    no_https = re.sub(\"https?://[^\\s]+\", '', s)\n",
    "    no_http = re.sub(\"http?://[^\\s]+\", '', no_https)\n",
    "    no_www = re.sub(\"www?[^\\s]+\", '', no_http)\n",
    "    words = TextBlob(no_www).words\n",
    "    words = [w for w in words if w not in stop]\n",
    "    prep_body = ' '.join(words)\n",
    "    return prep_body\n",
    "\n",
    "def prep_body(s):\n",
    "    if type(s) != str:\n",
    "        return \"\"\n",
    "    no_https = re.sub(\"https?://[^\\s]+\", '', s)\n",
    "    no_http = re.sub(\"http?://[^\\s]+\", '', no_https)\n",
    "    no_www = re.sub(\"www?[^\\s]+\", '', no_http)\n",
    "    body = re.sub(\"[0-9]\",'',no_www).strip()\n",
    "    words = TextBlob(body).words\n",
    "    words = [w for w in words if w not in stop]\n",
    "    prep_body = ' '.join(words)\n",
    "    return prep_body\n",
    "\n",
    "def compress(iterables):\n",
    "    outer = []\n",
    "    for it in iterables:\n",
    "        if type(it) != list:\n",
    "            outer.append(it)\n",
    "        else:\n",
    "            outer += it\n",
    "    return Counter(outer)\n",
    "\n",
    "def extract_genres(s):\n",
    "    genre_r = []\n",
    "    for genre in genres:\n",
    "        if genre in s:\n",
    "            genre_r.append(genre_map[genre])\n",
    "    return compress(genre_r)\n",
    "\n",
    "def extract_instruments(s):\n",
    "    instr_r = []\n",
    "    for instrument in instrument_types:\n",
    "        if instrument in s:\n",
    "            instr_r.append(instruments[instrument])\n",
    "    return compress(instr_r)"
   ]
  },
  {
   "cell_type": "code",
   "execution_count": 7,
   "metadata": {
    "ExecuteTime": {
     "end_time": "2017-11-10T03:15:56.507189Z",
     "start_time": "2017-11-10T03:13:56.620826Z"
    },
    "collapsed": true
   },
   "outputs": [],
   "source": [
    "df[\"prep_body_keepnum\"] = df[\"body\"].apply(prep_body_keepnum)\n",
    "df[\"prep_body\"] = df[\"body\"].apply(prep_body)\n",
    "df[\"body_len\"] = df[\"prep_body\"].apply(lambda x: len(x))"
   ]
  },
  {
   "cell_type": "markdown",
   "metadata": {},
   "source": [
    "## Stemming"
   ]
  },
  {
   "cell_type": "code",
   "execution_count": 8,
   "metadata": {
    "ExecuteTime": {
     "end_time": "2017-11-10T03:15:56.516707Z",
     "start_time": "2017-11-10T03:15:56.508879Z"
    },
    "collapsed": true
   },
   "outputs": [],
   "source": [
    "def stem_text(body):\n",
    "    words = TextBlob(body).words\n",
    "    stemmer = PorterStemmer()\n",
    "    stems = [stemmer.stem(word) for word in words]\n",
    "    stemmed = ' '.join(stems)\n",
    "    return stemmed"
   ]
  },
  {
   "cell_type": "code",
   "execution_count": 9,
   "metadata": {
    "ExecuteTime": {
     "end_time": "2017-11-10T03:18:16.679232Z",
     "start_time": "2017-11-10T03:15:56.518999Z"
    },
    "collapsed": true
   },
   "outputs": [],
   "source": [
    "df[\"prep_body\"] = df[\"prep_body\"].apply(str)\n",
    "df[\"prep_body_keepnum\"] = df[\"prep_body_keepnum\"].apply(str)\n",
    "df[\"prep_body\"] = df[\"prep_body\"].apply(stem_text)\n",
    "df[\"prep_body_keepnum\"] = df[\"prep_body_keepnum\"].apply(stem_text)"
   ]
  },
  {
   "cell_type": "markdown",
   "metadata": {},
   "source": [
    "## De-duplicate based on cosine similarity"
   ]
  },
  {
   "cell_type": "code",
   "execution_count": 10,
   "metadata": {
    "ExecuteTime": {
     "end_time": "2017-11-10T03:18:16.688045Z",
     "start_time": "2017-11-10T03:18:16.682788Z"
    },
    "collapsed": true
   },
   "outputs": [],
   "source": [
    "from sklearn.feature_extraction.text import CountVectorizer\n",
    "from sklearn.metrics.pairwise import linear_kernel, cosine_similarity"
   ]
  },
  {
   "cell_type": "code",
   "execution_count": 11,
   "metadata": {
    "ExecuteTime": {
     "end_time": "2017-11-10T03:18:18.649329Z",
     "start_time": "2017-11-10T03:18:16.690827Z"
    },
    "collapsed": true
   },
   "outputs": [],
   "source": [
    "posts = df.prep_body.values.tolist()\n",
    "vectorizer = CountVectorizer()\n",
    "count_vec = vectorizer.fit_transform(posts)"
   ]
  },
  {
   "cell_type": "code",
   "execution_count": 12,
   "metadata": {
    "ExecuteTime": {
     "end_time": "2017-11-10T03:18:18.661244Z",
     "start_time": "2017-11-10T03:18:18.651106Z"
    }
   },
   "outputs": [
    {
     "data": {
      "text/plain": [
       "(19506, 33181)"
      ]
     },
     "execution_count": 12,
     "metadata": {},
     "output_type": "execute_result"
    }
   ],
   "source": [
    "count_vec.shape"
   ]
  },
  {
   "cell_type": "code",
   "execution_count": 13,
   "metadata": {
    "ExecuteTime": {
     "end_time": "2017-11-10T03:27:58.092703Z",
     "start_time": "2017-11-10T03:18:18.664534Z"
    },
    "collapsed": true
   },
   "outputs": [],
   "source": [
    "threshold = 0.98\n",
    "kill = set()\n",
    "for i in range(count_vec.shape[0]):\n",
    "    cosine_similarities = cosine_similarity(count_vec[i:i+1], count_vec).flatten()\n",
    "    indices = np.where(cosine_similarities > threshold)[0]\n",
    "    indices = indices[np.where(indices > i)]\n",
    "    for kill_index in indices:\n",
    "        kill.add(kill_index)"
   ]
  },
  {
   "cell_type": "code",
   "execution_count": 14,
   "metadata": {
    "ExecuteTime": {
     "end_time": "2017-11-10T03:27:58.108369Z",
     "start_time": "2017-11-10T03:27:58.097309Z"
    }
   },
   "outputs": [
    {
     "data": {
      "text/plain": [
       "1140"
      ]
     },
     "execution_count": 14,
     "metadata": {},
     "output_type": "execute_result"
    }
   ],
   "source": [
    "len(kill)"
   ]
  },
  {
   "cell_type": "code",
   "execution_count": 15,
   "metadata": {
    "ExecuteTime": {
     "end_time": "2017-11-10T03:27:58.130700Z",
     "start_time": "2017-11-10T03:27:58.111306Z"
    }
   },
   "outputs": [
    {
     "data": {
      "text/plain": [
       "(19506, 12)"
      ]
     },
     "execution_count": 15,
     "metadata": {},
     "output_type": "execute_result"
    }
   ],
   "source": [
    "df.shape"
   ]
  },
  {
   "cell_type": "code",
   "execution_count": 22,
   "metadata": {
    "ExecuteTime": {
     "end_time": "2017-11-10T03:29:47.562510Z",
     "start_time": "2017-11-10T03:29:47.532815Z"
    },
    "collapsed": true
   },
   "outputs": [],
   "source": [
    "df_dedup = df.drop(df.index[list(kill)])"
   ]
  },
  {
   "cell_type": "code",
   "execution_count": 23,
   "metadata": {
    "ExecuteTime": {
     "end_time": "2017-11-10T03:29:49.082695Z",
     "start_time": "2017-11-10T03:29:49.072456Z"
    }
   },
   "outputs": [
    {
     "data": {
      "text/plain": [
       "(18366, 12)"
      ]
     },
     "execution_count": 23,
     "metadata": {},
     "output_type": "execute_result"
    }
   ],
   "source": [
    "df_dedup.shape"
   ]
  },
  {
   "cell_type": "markdown",
   "metadata": {},
   "source": [
    "## Get genre / instrument categories"
   ]
  },
  {
   "cell_type": "code",
   "execution_count": 32,
   "metadata": {
    "ExecuteTime": {
     "end_time": "2017-11-10T03:31:56.642881Z",
     "start_time": "2017-11-10T03:31:56.372656Z"
    },
    "collapsed": true
   },
   "outputs": [],
   "source": [
    "import seaborn as sns\n",
    "import matplotlib.pyplot as plt\n",
    "%matplotlib inline"
   ]
  },
  {
   "cell_type": "code",
   "execution_count": 24,
   "metadata": {
    "ExecuteTime": {
     "end_time": "2017-11-10T03:29:53.678568Z",
     "start_time": "2017-11-10T03:29:53.665232Z"
    },
    "collapsed": true
   },
   "outputs": [],
   "source": [
    "from mappings.genre_map import genre_map\n",
    "from mappings.instruments import instruments\n",
    "# globals\n",
    "genres = genre_map.keys()\n",
    "instrument_types = instruments.keys()"
   ]
  },
  {
   "cell_type": "code",
   "execution_count": 25,
   "metadata": {
    "ExecuteTime": {
     "end_time": "2017-11-10T03:29:56.582511Z",
     "start_time": "2017-11-10T03:29:54.067960Z"
    },
    "collapsed": true,
    "scrolled": true
   },
   "outputs": [],
   "source": [
    "df[\"genre_counts\"] = df[\"prep_body\"].apply(extract_genres)\n",
    "df[\"instrument_counts\"] = df[\"prep_body\"].apply(extract_instruments)"
   ]
  },
  {
   "cell_type": "code",
   "execution_count": 27,
   "metadata": {
    "ExecuteTime": {
     "end_time": "2017-11-10T03:29:56.998264Z",
     "start_time": "2017-11-10T03:29:56.797859Z"
    },
    "collapsed": true
   },
   "outputs": [],
   "source": [
    "genre_counts = pd.DataFrame(df[\"genre_counts\"].tolist()).fillna(0)\n",
    "instr_counts = pd.DataFrame(df[\"instrument_counts\"].tolist()).fillna(0)\n",
    "df = pd.concat([df, genre_counts, instr_counts], axis=1)"
   ]
  },
  {
   "cell_type": "code",
   "execution_count": 28,
   "metadata": {
    "ExecuteTime": {
     "end_time": "2017-11-10T03:30:05.881034Z",
     "start_time": "2017-11-10T03:30:05.845073Z"
    }
   },
   "outputs": [
    {
     "data": {
      "text/html": [
       "<div>\n",
       "<style>\n",
       "    .dataframe thead tr:only-child th {\n",
       "        text-align: right;\n",
       "    }\n",
       "\n",
       "    .dataframe thead th {\n",
       "        text-align: left;\n",
       "    }\n",
       "\n",
       "    .dataframe tbody tr th {\n",
       "        vertical-align: top;\n",
       "    }\n",
       "</style>\n",
       "<table border=\"1\" class=\"dataframe\">\n",
       "  <thead>\n",
       "    <tr style=\"text-align: right;\">\n",
       "      <th></th>\n",
       "      <th>body</th>\n",
       "      <th>captured</th>\n",
       "      <th>city</th>\n",
       "      <th>gmap_acc</th>\n",
       "      <th>gmap_lat</th>\n",
       "      <th>gmap_lon</th>\n",
       "      <th>index</th>\n",
       "      <th>title</th>\n",
       "      <th>url</th>\n",
       "      <th>prep_body_keepnum</th>\n",
       "      <th>...</th>\n",
       "      <th>rock</th>\n",
       "      <th>bass</th>\n",
       "      <th>dj</th>\n",
       "      <th>drums</th>\n",
       "      <th>guitar</th>\n",
       "      <th>horns</th>\n",
       "      <th>keys</th>\n",
       "      <th>percussion</th>\n",
       "      <th>strings</th>\n",
       "      <th>vocalist</th>\n",
       "    </tr>\n",
       "  </thead>\n",
       "  <tbody>\n",
       "    <tr>\n",
       "      <th>0</th>\n",
       "      <td>VOICE Lessons &amp; the ART of SINGING  Beginners ...</td>\n",
       "      <td>2017-11-01 14:20:56</td>\n",
       "      <td>new york</td>\n",
       "      <td>22.0</td>\n",
       "      <td>40.77630</td>\n",
       "      <td>-73.911000</td>\n",
       "      <td>0.0</td>\n",
       "      <td>VOICE Lessons &amp; the ART of SINGING  Beginners ...</td>\n",
       "      <td>https://newyork.craigslist.org/que/muc/d/voice...</td>\n",
       "      <td>voic lesson art sing beginn welcom classic voi...</td>\n",
       "      <td>...</td>\n",
       "      <td>0.0</td>\n",
       "      <td>0.0</td>\n",
       "      <td>0.0</td>\n",
       "      <td>0.0</td>\n",
       "      <td>0.0</td>\n",
       "      <td>0.0</td>\n",
       "      <td>0.0</td>\n",
       "      <td>0.0</td>\n",
       "      <td>0.0</td>\n",
       "      <td>1.0</td>\n",
       "    </tr>\n",
       "    <tr>\n",
       "      <th>1</th>\n",
       "      <td>Guitar lessons- Queen Anne/Belltown/Downtown \\...</td>\n",
       "      <td>2017-11-01 14:20:56</td>\n",
       "      <td>seattle</td>\n",
       "      <td>15.0</td>\n",
       "      <td>47.61872</td>\n",
       "      <td>-122.356738</td>\n",
       "      <td>1.0</td>\n",
       "      <td>Guitar lessons- Queen Anne/Belltown/Downtown</td>\n",
       "      <td>https://seattle.craigslist.org/see/muc/d/guita...</td>\n",
       "      <td>guitar lesson queen anne/belltown/downtown hel...</td>\n",
       "      <td>...</td>\n",
       "      <td>2.0</td>\n",
       "      <td>0.0</td>\n",
       "      <td>1.0</td>\n",
       "      <td>0.0</td>\n",
       "      <td>1.0</td>\n",
       "      <td>0.0</td>\n",
       "      <td>0.0</td>\n",
       "      <td>0.0</td>\n",
       "      <td>0.0</td>\n",
       "      <td>0.0</td>\n",
       "    </tr>\n",
       "    <tr>\n",
       "      <th>2</th>\n",
       "      <td>Record and Mix \\nengineer with studio for arti...</td>\n",
       "      <td>2017-11-01 14:20:56</td>\n",
       "      <td>boston</td>\n",
       "      <td>NaN</td>\n",
       "      <td>NaN</td>\n",
       "      <td>NaN</td>\n",
       "      <td>2.0</td>\n",
       "      <td>Record and Mix</td>\n",
       "      <td>https://boston.craigslist.org/gbs/muc/d/record...</td>\n",
       "      <td>record mix engin studio artist band group reco...</td>\n",
       "      <td>...</td>\n",
       "      <td>0.0</td>\n",
       "      <td>0.0</td>\n",
       "      <td>0.0</td>\n",
       "      <td>0.0</td>\n",
       "      <td>1.0</td>\n",
       "      <td>0.0</td>\n",
       "      <td>0.0</td>\n",
       "      <td>0.0</td>\n",
       "      <td>0.0</td>\n",
       "      <td>0.0</td>\n",
       "    </tr>\n",
       "    <tr>\n",
       "      <th>3</th>\n",
       "      <td>GUITAR LESSONS BY EXPERIENCED PROFESSIONAL GUI...</td>\n",
       "      <td>2017-11-01 14:20:56</td>\n",
       "      <td>new york</td>\n",
       "      <td>NaN</td>\n",
       "      <td>NaN</td>\n",
       "      <td>NaN</td>\n",
       "      <td>3.0</td>\n",
       "      <td>GUITAR LESSONS BY EXPERIENCED PROFESSIONAL GUI...</td>\n",
       "      <td>https://newyork.craigslist.org/brk/muc/d/guita...</td>\n",
       "      <td>guitar lesson BY experienc profession guitaris...</td>\n",
       "      <td>...</td>\n",
       "      <td>0.0</td>\n",
       "      <td>0.0</td>\n",
       "      <td>0.0</td>\n",
       "      <td>0.0</td>\n",
       "      <td>0.0</td>\n",
       "      <td>0.0</td>\n",
       "      <td>0.0</td>\n",
       "      <td>0.0</td>\n",
       "      <td>0.0</td>\n",
       "      <td>0.0</td>\n",
       "    </tr>\n",
       "    <tr>\n",
       "      <th>4</th>\n",
       "      <td>Professional Guitarist available for gigs \\nhi...</td>\n",
       "      <td>2017-11-01 14:20:56</td>\n",
       "      <td>new york</td>\n",
       "      <td>NaN</td>\n",
       "      <td>NaN</td>\n",
       "      <td>NaN</td>\n",
       "      <td>4.0</td>\n",
       "      <td>Professional Guitarist available for gigs</td>\n",
       "      <td>https://newyork.craigslist.org/mnh/muc/d/profe...</td>\n",
       "      <td>profession guitarist avail gig hi need guitari...</td>\n",
       "      <td>...</td>\n",
       "      <td>1.0</td>\n",
       "      <td>1.0</td>\n",
       "      <td>0.0</td>\n",
       "      <td>0.0</td>\n",
       "      <td>0.0</td>\n",
       "      <td>0.0</td>\n",
       "      <td>0.0</td>\n",
       "      <td>0.0</td>\n",
       "      <td>0.0</td>\n",
       "      <td>0.0</td>\n",
       "    </tr>\n",
       "  </tbody>\n",
       "</table>\n",
       "<p>5 rows × 36 columns</p>\n",
       "</div>"
      ],
      "text/plain": [
       "                                                body             captured  \\\n",
       "0  VOICE Lessons & the ART of SINGING  Beginners ...  2017-11-01 14:20:56   \n",
       "1  Guitar lessons- Queen Anne/Belltown/Downtown \\...  2017-11-01 14:20:56   \n",
       "2  Record and Mix \\nengineer with studio for arti...  2017-11-01 14:20:56   \n",
       "3  GUITAR LESSONS BY EXPERIENCED PROFESSIONAL GUI...  2017-11-01 14:20:56   \n",
       "4  Professional Guitarist available for gigs \\nhi...  2017-11-01 14:20:56   \n",
       "\n",
       "       city  gmap_acc  gmap_lat    gmap_lon  index  \\\n",
       "0  new york      22.0  40.77630  -73.911000    0.0   \n",
       "1   seattle      15.0  47.61872 -122.356738    1.0   \n",
       "2    boston       NaN       NaN         NaN    2.0   \n",
       "3  new york       NaN       NaN         NaN    3.0   \n",
       "4  new york       NaN       NaN         NaN    4.0   \n",
       "\n",
       "                                               title  \\\n",
       "0  VOICE Lessons & the ART of SINGING  Beginners ...   \n",
       "1       Guitar lessons- Queen Anne/Belltown/Downtown   \n",
       "2                                     Record and Mix   \n",
       "3  GUITAR LESSONS BY EXPERIENCED PROFESSIONAL GUI...   \n",
       "4          Professional Guitarist available for gigs   \n",
       "\n",
       "                                                 url  \\\n",
       "0  https://newyork.craigslist.org/que/muc/d/voice...   \n",
       "1  https://seattle.craigslist.org/see/muc/d/guita...   \n",
       "2  https://boston.craigslist.org/gbs/muc/d/record...   \n",
       "3  https://newyork.craigslist.org/brk/muc/d/guita...   \n",
       "4  https://newyork.craigslist.org/mnh/muc/d/profe...   \n",
       "\n",
       "                                   prep_body_keepnum    ...    rock  bass  \\\n",
       "0  voic lesson art sing beginn welcom classic voi...    ...     0.0   0.0   \n",
       "1  guitar lesson queen anne/belltown/downtown hel...    ...     2.0   0.0   \n",
       "2  record mix engin studio artist band group reco...    ...     0.0   0.0   \n",
       "3  guitar lesson BY experienc profession guitaris...    ...     0.0   0.0   \n",
       "4  profession guitarist avail gig hi need guitari...    ...     1.0   1.0   \n",
       "\n",
       "    dj drums  guitar  horns  keys  percussion  strings  vocalist  \n",
       "0  0.0   0.0     0.0    0.0   0.0         0.0      0.0       1.0  \n",
       "1  1.0   0.0     1.0    0.0   0.0         0.0      0.0       0.0  \n",
       "2  0.0   0.0     1.0    0.0   0.0         0.0      0.0       0.0  \n",
       "3  0.0   0.0     0.0    0.0   0.0         0.0      0.0       0.0  \n",
       "4  0.0   0.0     0.0    0.0   0.0         0.0      0.0       0.0  \n",
       "\n",
       "[5 rows x 36 columns]"
      ]
     },
     "execution_count": 28,
     "metadata": {},
     "output_type": "execute_result"
    }
   ],
   "source": [
    "df.head()"
   ]
  },
  {
   "cell_type": "code",
   "execution_count": 39,
   "metadata": {
    "ExecuteTime": {
     "end_time": "2017-11-10T03:37:33.399579Z",
     "start_time": "2017-11-10T03:37:32.759228Z"
    }
   },
   "outputs": [
    {
     "data": {
      "text/plain": [
       "<matplotlib.text.Text at 0xa6f8cfac>"
      ]
     },
     "execution_count": 39,
     "metadata": {},
     "output_type": "execute_result"
    },
    {
     "data": {
      "image/png": "[encoded data removed]",
      "text/plain": [
       "<matplotlib.figure.Figure at 0xa6ef9f2c>"
      ]
     },
     "metadata": {},
     "output_type": "display_data"
    }
   ],
   "source": [
    "plt.figure(figsize=(14,8))\n",
    "genrebarchart = sns.barplot(x='index', y='mean', data=df[genre_counts.columns].describe().loc['mean'].reset_index().sort_values('mean', ascending=False),color='#b355d6')\n",
    "genrebarchart.set_ylabel('Probability of genre-specific keyword in posts',fontdict={'size':13})\n",
    "genrebarchart.set_xlabel('Genre',fontdict={'size':13})"
   ]
  },
  {
   "cell_type": "code",
   "execution_count": 30,
   "metadata": {
    "ExecuteTime": {
     "end_time": "2017-11-10T03:30:17.644879Z",
     "start_time": "2017-11-10T03:30:17.578622Z"
    }
   },
   "outputs": [
    {
     "data": {
      "text/html": [
       "<div>\n",
       "<style>\n",
       "    .dataframe thead tr:only-child th {\n",
       "        text-align: right;\n",
       "    }\n",
       "\n",
       "    .dataframe thead th {\n",
       "        text-align: left;\n",
       "    }\n",
       "\n",
       "    .dataframe tbody tr th {\n",
       "        vertical-align: top;\n",
       "    }\n",
       "</style>\n",
       "<table border=\"1\" class=\"dataframe\">\n",
       "  <thead>\n",
       "    <tr style=\"text-align: right;\">\n",
       "      <th></th>\n",
       "      <th>bass</th>\n",
       "      <th>dj</th>\n",
       "      <th>drums</th>\n",
       "      <th>guitar</th>\n",
       "      <th>horns</th>\n",
       "      <th>keys</th>\n",
       "      <th>percussion</th>\n",
       "      <th>strings</th>\n",
       "      <th>vocalist</th>\n",
       "    </tr>\n",
       "  </thead>\n",
       "  <tbody>\n",
       "    <tr>\n",
       "      <th>count</th>\n",
       "      <td>19506.000000</td>\n",
       "      <td>19506.000000</td>\n",
       "      <td>19506.000000</td>\n",
       "      <td>19506.000000</td>\n",
       "      <td>19506.000000</td>\n",
       "      <td>19506.000000</td>\n",
       "      <td>19506.000000</td>\n",
       "      <td>19506.000000</td>\n",
       "      <td>19506.000000</td>\n",
       "    </tr>\n",
       "    <tr>\n",
       "      <th>mean</th>\n",
       "      <td>0.171383</td>\n",
       "      <td>0.034861</td>\n",
       "      <td>0.202963</td>\n",
       "      <td>0.384753</td>\n",
       "      <td>0.072952</td>\n",
       "      <td>0.205168</td>\n",
       "      <td>0.017738</td>\n",
       "      <td>0.042756</td>\n",
       "      <td>0.316159</td>\n",
       "    </tr>\n",
       "    <tr>\n",
       "      <th>std</th>\n",
       "      <td>0.414556</td>\n",
       "      <td>0.184269</td>\n",
       "      <td>0.402216</td>\n",
       "      <td>0.486549</td>\n",
       "      <td>0.416968</td>\n",
       "      <td>0.501059</td>\n",
       "      <td>0.146017</td>\n",
       "      <td>0.239235</td>\n",
       "      <td>0.560022</td>\n",
       "    </tr>\n",
       "    <tr>\n",
       "      <th>min</th>\n",
       "      <td>0.000000</td>\n",
       "      <td>0.000000</td>\n",
       "      <td>0.000000</td>\n",
       "      <td>0.000000</td>\n",
       "      <td>0.000000</td>\n",
       "      <td>0.000000</td>\n",
       "      <td>0.000000</td>\n",
       "      <td>0.000000</td>\n",
       "      <td>0.000000</td>\n",
       "    </tr>\n",
       "    <tr>\n",
       "      <th>25%</th>\n",
       "      <td>0.000000</td>\n",
       "      <td>0.000000</td>\n",
       "      <td>0.000000</td>\n",
       "      <td>0.000000</td>\n",
       "      <td>0.000000</td>\n",
       "      <td>0.000000</td>\n",
       "      <td>0.000000</td>\n",
       "      <td>0.000000</td>\n",
       "      <td>0.000000</td>\n",
       "    </tr>\n",
       "    <tr>\n",
       "      <th>50%</th>\n",
       "      <td>0.000000</td>\n",
       "      <td>0.000000</td>\n",
       "      <td>0.000000</td>\n",
       "      <td>0.000000</td>\n",
       "      <td>0.000000</td>\n",
       "      <td>0.000000</td>\n",
       "      <td>0.000000</td>\n",
       "      <td>0.000000</td>\n",
       "      <td>0.000000</td>\n",
       "    </tr>\n",
       "    <tr>\n",
       "      <th>75%</th>\n",
       "      <td>0.000000</td>\n",
       "      <td>0.000000</td>\n",
       "      <td>0.000000</td>\n",
       "      <td>1.000000</td>\n",
       "      <td>0.000000</td>\n",
       "      <td>0.000000</td>\n",
       "      <td>0.000000</td>\n",
       "      <td>0.000000</td>\n",
       "      <td>1.000000</td>\n",
       "    </tr>\n",
       "    <tr>\n",
       "      <th>max</th>\n",
       "      <td>2.000000</td>\n",
       "      <td>2.000000</td>\n",
       "      <td>1.000000</td>\n",
       "      <td>1.000000</td>\n",
       "      <td>12.000000</td>\n",
       "      <td>5.000000</td>\n",
       "      <td>3.000000</td>\n",
       "      <td>3.000000</td>\n",
       "      <td>3.000000</td>\n",
       "    </tr>\n",
       "  </tbody>\n",
       "</table>\n",
       "</div>"
      ],
      "text/plain": [
       "               bass            dj         drums        guitar         horns  \\\n",
       "count  19506.000000  19506.000000  19506.000000  19506.000000  19506.000000   \n",
       "mean       0.171383      0.034861      0.202963      0.384753      0.072952   \n",
       "std        0.414556      0.184269      0.402216      0.486549      0.416968   \n",
       "min        0.000000      0.000000      0.000000      0.000000      0.000000   \n",
       "25%        0.000000      0.000000      0.000000      0.000000      0.000000   \n",
       "50%        0.000000      0.000000      0.000000      0.000000      0.000000   \n",
       "75%        0.000000      0.000000      0.000000      1.000000      0.000000   \n",
       "max        2.000000      2.000000      1.000000      1.000000     12.000000   \n",
       "\n",
       "               keys    percussion       strings      vocalist  \n",
       "count  19506.000000  19506.000000  19506.000000  19506.000000  \n",
       "mean       0.205168      0.017738      0.042756      0.316159  \n",
       "std        0.501059      0.146017      0.239235      0.560022  \n",
       "min        0.000000      0.000000      0.000000      0.000000  \n",
       "25%        0.000000      0.000000      0.000000      0.000000  \n",
       "50%        0.000000      0.000000      0.000000      0.000000  \n",
       "75%        0.000000      0.000000      0.000000      1.000000  \n",
       "max        5.000000      3.000000      3.000000      3.000000  "
      ]
     },
     "execution_count": 30,
     "metadata": {},
     "output_type": "execute_result"
    }
   ],
   "source": [
    "df[instr_counts.columns].describe()"
   ]
  },
  {
   "cell_type": "code",
   "execution_count": null,
   "metadata": {
    "collapsed": true
   },
   "outputs": [],
   "source": []
  }
 ],
 "metadata": {
  "kernelspec": {
   "display_name": "Python [conda env:metis]",
   "language": "python",
   "name": "conda-env-metis-py"
  },
  "language_info": {
   "codemirror_mode": {
    "name": "ipython",
    "version": 3
   },
   "file_extension": ".py",
   "mimetype": "text/x-python",
   "name": "python",
   "nbconvert_exporter": "python",
   "pygments_lexer": "ipython3",
   "version": "3.5.4"
  }
 },
 "nbformat": 4,
 "nbformat_minor": 2
}
